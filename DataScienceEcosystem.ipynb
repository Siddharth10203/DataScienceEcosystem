{
 "cells": [
  {
   "cell_type": "markdown",
   "id": "902fca6d",
   "metadata": {},
   "source": [
    "# Data Science Tools and Ecosystem\n",
    "\n",
    "## Author:\n",
    "Siddharth Ganapathy\n",
    "\n",
    "Please view my jupyternotebook in the following GitHub Repository:\n",
    "https://github.com/Siddharth10203/DataScienceEcosystem.git"
   ]
  },
  {
   "cell_type": "markdown",
   "id": "7d324ab4",
   "metadata": {},
   "source": [
    "In this notebook, Data Science Tools and Ecosystem are summarized."
   ]
  },
  {
   "cell_type": "markdown",
   "id": "3330caec",
   "metadata": {},
   "source": [
    "#### Objectives:\n",
    "- List Popular Languages for Data Science\n",
    "- List Commonly Used Libraries for Data Science\n",
    "- List Commonly Used Tools for Data Science\n",
    "- Evaluate Arithmetic Expressions\n",
    "- Convert Minutes to Hours \n",
    "\n"
   ]
  },
  {
   "cell_type": "markdown",
   "id": "686ee581",
   "metadata": {},
   "source": [
    "Some of the popular languages that Data Scientists use are:\n",
    "\n",
    "1. Python\n",
    "2. R\n",
    "3. Scala\n",
    "4. SQL\n",
    "5. Julia\n",
    "6. Java"
   ]
  },
  {
   "cell_type": "markdown",
   "id": "bd066e51",
   "metadata": {},
   "source": [
    "Some of the commonly used libraries used by Data Scientists include:\n",
    "\n",
    "1. Panadas\n",
    "2. NumPy\n",
    "3. SciPy\n",
    "4. MatplotLib\n"
   ]
  },
  {
   "cell_type": "markdown",
   "id": "08020811",
   "metadata": {},
   "source": [
    "| Data Science Tools |\n",
    "| ------------------ |\n",
    "|  Watson Studio Commercial |\n",
    "|  RStudio |\n",
    "|  Jupyter Notebooks|"
   ]
  },
  {
   "cell_type": "markdown",
   "id": "b4e305c6",
   "metadata": {},
   "source": [
    "### Below are a few examples of evaluating arithmetic expressions in Python\n",
    "\n",
    "We will evalueat the following in the below code cell: (3*4)+5"
   ]
  },
  {
   "cell_type": "code",
   "execution_count": 3,
   "id": "a1c7a3b2",
   "metadata": {},
   "outputs": [
    {
     "data": {
      "text/plain": [
       "17"
      ]
     },
     "execution_count": 3,
     "metadata": {},
     "output_type": "execute_result"
    }
   ],
   "source": [
    "# This is a simple arithmetic expression to multiply then add integers.\n",
    "(3*4)+5"
   ]
  },
  {
   "cell_type": "code",
   "execution_count": 4,
   "id": "46dc1f6a",
   "metadata": {},
   "outputs": [
    {
     "data": {
      "text/plain": [
       "3.3333333333333335"
      ]
     },
     "execution_count": 4,
     "metadata": {},
     "output_type": "execute_result"
    }
   ],
   "source": [
    "# This will convert 200 minutes to hours by diving by 60.\n",
    "200/60"
   ]
  },
  {
   "cell_type": "code",
   "execution_count": null,
   "id": "3f3691ac",
   "metadata": {},
   "outputs": [],
   "source": []
  }
 ],
 "metadata": {
  "kernelspec": {
   "display_name": "Python 3 (ipykernel)",
   "language": "python",
   "name": "python3"
  },
  "language_info": {
   "codemirror_mode": {
    "name": "ipython",
    "version": 3
   },
   "file_extension": ".py",
   "mimetype": "text/x-python",
   "name": "python",
   "nbconvert_exporter": "python",
   "pygments_lexer": "ipython3",
   "version": "3.11.4"
  }
 },
 "nbformat": 4,
 "nbformat_minor": 5
}
